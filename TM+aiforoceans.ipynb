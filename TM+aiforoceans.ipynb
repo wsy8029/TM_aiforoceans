{
 "cells": [
  {
   "cell_type": "code",
   "execution_count": 1,
   "metadata": {},
   "outputs": [
    {
     "name": "stdout",
     "output_type": "stream",
     "text": [
      "Running PyMODI (v1.1.0)\n"
     ]
    },
    {
     "ename": "TypeError",
     "evalue": "__init__() got an unexpected keyword argument 'ai_mode'",
     "output_type": "error",
     "traceback": [
      "\u001b[0;31m---------------------------------------------------------------------------\u001b[0m",
      "\u001b[0;31mTypeError\u001b[0m                                 Traceback (most recent call last)",
      "\u001b[0;32m<ipython-input-1-5448be3ded1c>\u001b[0m in \u001b[0;36m<module>\u001b[0;34m\u001b[0m\n\u001b[1;32m      6\u001b[0m \u001b[0;32mfrom\u001b[0m \u001b[0mPIL\u001b[0m \u001b[0;32mimport\u001b[0m \u001b[0mImage\u001b[0m\u001b[0;34m,\u001b[0m \u001b[0mImageOps\u001b[0m\u001b[0;34m\u001b[0m\u001b[0;34m\u001b[0m\u001b[0m\n\u001b[1;32m      7\u001b[0m \u001b[0;34m\u001b[0m\u001b[0m\n\u001b[0;32m----> 8\u001b[0;31m \u001b[0mbundle\u001b[0m \u001b[0;34m=\u001b[0m \u001b[0mmodi\u001b[0m\u001b[0;34m.\u001b[0m\u001b[0mMODI\u001b[0m\u001b[0;34m(\u001b[0m\u001b[0mai_mode\u001b[0m\u001b[0;34m=\u001b[0m\u001b[0;32mTrue\u001b[0m\u001b[0;34m)\u001b[0m\u001b[0;34m\u001b[0m\u001b[0;34m\u001b[0m\u001b[0m\n\u001b[0m",
      "\u001b[0;31mTypeError\u001b[0m: __init__() got an unexpected keyword argument 'ai_mode'"
     ]
    }
   ],
   "source": [
    "import cv2\n",
    "import numpy as np\n",
    "import modi\n",
    "import time\n",
    "import tensorflow.keras\n",
    "from PIL import Image, ImageOps\n",
    "\n",
    "bundle = modi.MODI(ai_mode=True)"
   ]
  },
  {
   "cell_type": "code",
   "execution_count": null,
   "metadata": {},
   "outputs": [],
   "source": [
    "ai_cam = bundle.ai_cameras[0]\n",
    "button = bundle.buttons[0]\n",
    "led = bundle.leds[0]\n",
    "display = bundle.displays[0]\n",
    "motor = bundle.motors[0]\n",
    "speaker = bundle.speakers[0]"
   ]
  },
  {
   "cell_type": "code",
   "execution_count": null,
   "metadata": {},
   "outputs": [],
   "source": [
    "ai_cam.set_window() \n",
    "\n",
    "while True:\n",
    "    frame = ai_cam.read()\n",
    "    ai_cam.show(frame)"
   ]
  },
  {
   "cell_type": "code",
   "execution_count": null,
   "metadata": {},
   "outputs": [],
   "source": [
    "def forOceans():\n",
    "    np.set_printoptions(suppress=True)\n",
    "    model = tensorflow.keras.models.load_model('keras_model.h5')\n",
    "    data = np.ndarray(shape=(1, 224, 224, 3), dtype=np.float32)\n",
    "    image = Image.open('1.jpg')\n",
    "    size = (224, 224)\n",
    "    image = ImageOps.fit(image, size, Image.ANTIALIAS)\n",
    "    image_array = np.asarray(image)\n",
    "    normalized_image_array = (image_array.astype(np.float32) / 127.0) - 1\n",
    "    data[0] = normalized_image_array\n",
    "    prediction = model.predict(data)\n",
    "    print(prediction)\n",
    "    if prediction[0,2] > 0.8:\n",
    "        dispose()\n",
    "    elif prediction[0,0] > 0.7 or prediction[0,1] > 0.7:\n",
    "        protect()"
   ]
  },
  {
   "cell_type": "code",
   "execution_count": null,
   "metadata": {},
   "outputs": [],
   "source": [
    "def protect():\n",
    "    led.rgb = 0,100,0\n",
    "    display.text = \"marine life\"\n",
    "    speaker.tune = 700,100\n",
    "    time.sleep(0.4)\n",
    "    speaker.tune = 900,100\n",
    "    time.sleep(0.4)\n",
    "    speaker.tune = 1050,100\n",
    "    time.sleep(0.4)\n",
    "    speaker.turn_off()\n",
    "    time.sleep(5)\n",
    "    display.clear()\n",
    "    led.turn_off()\n",
    "    motor.degree = 0,0\n",
    "    time.sleep(3)\n",
    "    motor.degree = 0,0"
   ]
  },
  {
   "cell_type": "code",
   "execution_count": null,
   "metadata": {},
   "outputs": [],
   "source": [
    "def dispose():\n",
    "    led.rgb = 100,0,0\n",
    "    display.text = \"TRASH\"\n",
    "    speaker.tune = 1300,100\n",
    "    time.sleep(0.2)\n",
    "    speaker.tune = 1300,0\n",
    "    time.sleep(0.1)\n",
    "    speaker.tune = 1300,100\n",
    "    time.sleep(1)\n",
    "    speaker.turn_off()\n",
    "    time.sleep(5)\n",
    "    display.clear()\n",
    "    led.turn_off()\n",
    "    motor.degree = 0,50\n",
    "    time.sleep(2)\n",
    "    motor.degree = 0,0"
   ]
  },
  {
   "cell_type": "code",
   "execution_count": null,
   "metadata": {},
   "outputs": [],
   "source": [
    "if button.clicked:\n",
    "    ai_cam.imwrite(\"1.jpg\",frame)\n",
    "    forOceans()"
   ]
  }
 ],
 "metadata": {
  "kernelspec": {
   "display_name": "Python 3",
   "language": "python",
   "name": "python3"
  },
  "language_info": {
   "codemirror_mode": {
    "name": "ipython",
    "version": 3
   },
   "file_extension": ".py",
   "mimetype": "text/x-python",
   "name": "python",
   "nbconvert_exporter": "python",
   "pygments_lexer": "ipython3",
   "version": "3.7.6"
  }
 },
 "nbformat": 4,
 "nbformat_minor": 5
}
